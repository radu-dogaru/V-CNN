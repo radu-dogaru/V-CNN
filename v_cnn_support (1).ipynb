{
  "metadata": {
    "colab": {
      "provenance": []
    },
    "kernelspec": {
      "name": "python3",
      "display_name": "Python 3",
      "language": "python"
    },
    "accelerator": "GPU",
    "language_info": {
      "name": "python",
      "version": "3.10.10",
      "mimetype": "text/x-python",
      "codemirror_mode": {
        "name": "ipython",
        "version": 3
      },
      "pygments_lexer": "ipython3",
      "nbconvert_exporter": "python",
      "file_extension": ".py"
    }
  },
  "nbformat_minor": 0,
  "nbformat": 4,
  "cells": [
    {
      "cell_type": "markdown",
      "source": [
        "# V-CNN code support for paper:\n",
        "R. Dogaru and Ioana Dogaru, \"V-CNN: A versatile light CNN structure for image recognition on resources-constrained platforms\"\n",
        "Copyright Radu and Ioana Dogaru, contact: radu.dogaru@upb.ro"
      ],
      "metadata": {
        "id": "p7gl-yzOUZZ3"
      }
    },
    {
      "cell_type": "markdown",
      "source": [
        "#CELL 0 - run only when emnist or svhn datasest are needed\n",
        "\n"
      ],
      "metadata": {
        "id": "7y38gUETcaTp"
      }
    },
    {
      "cell_type": "code",
      "source": [
        "!pip install extra-keras-datasets\n",
        "from extra_keras_datasets import emnist, svhn"
      ],
      "metadata": {
        "id": "t0DmlWqvQ_Wo",
        "trusted": true
      },
      "execution_count": null,
      "outputs": []
    },
    {
      "cell_type": "markdown",
      "source": [
        "# CELL 1  -Loading datsets, scaling and defining input/output shapes  \n",
        "may be replaced with other procedures to access data, e.g. using data generators"
      ],
      "metadata": {
        "id": "SSkvfvnuPHbK"
      }
    },
    {
      "cell_type": "code",
      "source": [
        "import tensorflow as tf\n",
        "import numpy as np\n",
        "import keras\n",
        "\n",
        "dataset='cifar10' # mnist or f-mnist or cifar10\n",
        "reduced=0  #  a positive value represents a reduced number of training samples (when memory allocation problems occur)\n",
        "dformat='channels_last'\n",
        "\n",
        "from keras.datasets import mnist, cifar10, cifar100, fashion_mnist\n",
        "\n",
        "\n",
        "if dataset=='mnist':\n",
        "    (x_train, y_train), (x_test, y_test) = mnist.load_data()\n",
        "elif  dataset=='cifar10':\n",
        "    (x_train, y_train), (x_test, y_test) = cifar10.load_data()\n",
        "elif  dataset=='cifar100':\n",
        "    (x_train, y_train), (x_test, y_test) = cifar100.load_data()\n",
        "elif dataset=='f-mnist':\n",
        "    (x_train, y_train), (x_test, y_test) =  fashion_mnist.load_data()\n",
        "elif dataset=='emnist':\n",
        "    (x_train, y_train), (x_test, y_test) =  emnist.load_data()\n",
        "elif dataset=='svhn':\n",
        "    (x_train, y_train), (x_test, y_test) =  svhn.load_data()\n",
        "\n",
        "if (np.ndim(x_train)==3):   # E.g.  MNIST or F-MNIST\n",
        "    x_train=np.reshape(x_train, [np.shape(x_train)[0],np.shape(x_train)[1],np.shape(x_train)[2], 1])\n",
        "    x_test=np.reshape(x_test, [np.shape(x_test)[0],np.shape(x_test)[1],np.shape(x_test)[2], 1] )\n",
        "# place a  1 in the end to keep it compatible with kernel in conv2d\n",
        "# scaling in ([0,1])\n",
        "x_train = x_train.astype('float32')\n",
        "x_test = x_test.astype('float32')\n",
        "x_train /= 255\n",
        "x_test /=255\n",
        "inp_chan=np.shape(x_train)[3]\n",
        "print('Number of input channels in image:', inp_chan)\n",
        "num_classes=int(np.max(y_train)+1)\n",
        "num_inputs = np.shape(x_test)[1]\n",
        "input_shape=np.shape(x_train)[1:4]\n",
        "\n",
        "\n",
        "# if reduced >0\n",
        "if reduced>0:\n",
        "    Ntr1=reduced\n",
        "    x_train=x_train[0:Ntr1,:,:,:]\n",
        "    y_train=y_train[0:Ntr1]\n",
        "y_train = tf.keras.utils.to_categorical(y_train, num_classes)\n",
        "y_test = tf.keras.utils.to_categorical(y_test, num_classes)\n",
        "\n",
        "print('Training samples: ',np.shape(x_train)[0]); print('Esantioane test: ',np.shape(x_test)[0]);\n",
        "print('Input data shape : ', np.shape(x_train)[1], 'x', np.shape(x_train)[2] )\n",
        "print('Number of classes: ',num_classes)"
      ],
      "metadata": {
        "id": "yFFIr2Je52eN",
        "colab": {
          "base_uri": "https://localhost:8080/"
        },
        "outputId": "1f61490e-9fc4-439c-dded-b324a5d594e3",
        "execution": {
          "iopub.status.busy": "2023-06-23T15:12:48.569571Z",
          "iopub.execute_input": "2023-06-23T15:12:48.569951Z",
          "iopub.status.idle": "2023-06-23T15:12:56.172229Z",
          "shell.execute_reply.started": "2023-06-23T15:12:48.569918Z",
          "shell.execute_reply": "2023-06-23T15:12:56.171161Z"
        },
        "trusted": true
      },
      "execution_count": 1,
      "outputs": [
        {
          "output_type": "stream",
          "name": "stdout",
          "text": [
            "Downloading data from https://www.cs.toronto.edu/~kriz/cifar-10-python.tar.gz\n",
            "170498071/170498071 [==============================] - 13s 0us/step\n",
            "Number of input channels in image: 3\n",
            "Training samples:  50000\n",
            "Esantioane test:  10000\n",
            "Input data shape :  32 x 32\n",
            "Number of classes:  10\n"
          ]
        }
      ]
    },
    {
      "cell_type": "markdown",
      "source": [
        "# CELL 2-   V-CNN model (defining function)"
      ],
      "metadata": {
        "id": "kY20uBAHhZEc"
      }
    },
    {
      "cell_type": "code",
      "source": [
        "# V-CNN Versatile CNN model -\n",
        "# includes L-CNN, NL-CNN and XNL-CNN as particular cases.\n",
        "# The basic unit is the \"macro-layer\" as in the XNL-CNN but here one can independently choose the\n",
        "# filter size (fil) and\n",
        "# nonlinearity nl (0 means \"linear\" convolution)\n",
        "# It allows any number of additional dense layers e.g. hid=[] (no hidden dense) or hid =[100, 100] (two additional).\n",
        "# Copyright Radu and Ioana DOGARU - correspondence: radu.dogaru@upb.ro\n",
        "# Last update June 21, 2023\n",
        "#-------------------------------------------------------------------------------------------------\n",
        "\n",
        "from tensorflow.keras.models import Sequential\n",
        "from tensorflow.keras.layers import Dense, Dropout, Flatten, Activation, BatchNormalization\n",
        "from tensorflow.keras.layers import Conv2D, DepthwiseConv2D, MaxPooling2D, AveragePooling2D, GlobalAveragePooling2D, SeparableConv2D  # straturi convolutionale si max-pooling\n",
        "from tensorflow.keras.optimizers import RMSprop, SGD, Adadelta, Adam, Nadam\n",
        "\n",
        "#--------------------------  ------------------------------\n",
        "def create_v_cnn_model(input_shape, num_classes, flat=1, fil=[100,100,100,100], nl=[1,1,0,0], hid=[]):\n",
        "    # Note the number of elements in fil list (macrolayers) should be the same in nl list\n",
        "    # hid can be [] while if the are elements, additional dense layers are added in the output classifier\n",
        "\n",
        "    csize=3; stri=2; psiz=4; pad='same';\n",
        "    drop1=0.6  # Best value for CIFAR-100 after tuning in range 0.25 - 0.75 !\n",
        "\n",
        "    nfilmax=np.shape(np.array(fil))[0]\n",
        "    model = Sequential()\n",
        "    # First macrolayer - connected to input  ----------------\n",
        "    layer=0\n",
        "    if nl[layer]>0:\n",
        "        model.add(Conv2D(fil[layer], padding=pad, kernel_size=(csize, csize), input_shape=input_shape ) )\n",
        "        model.add(Activation('relu'))\n",
        "        for nonlin in range(1,nl[0]):\n",
        "            model.add(Conv2D(fil[layer], padding=pad, kernel_size=(csize, csize)) )\n",
        "            model.add(Activation('relu'))\n",
        "\n",
        "        model.add(Conv2D(fil[0], padding=pad, kernel_size=(csize, csize) ) )\n",
        "        model.add(BatchNormalization())\n",
        "        model.add(MaxPooling2D(pool_size=(psiz, psiz),strides=(stri,stri),padding=pad))\n",
        "        model.add(Dropout(drop1))\n",
        "\n",
        "    else:\n",
        "        model.add(Conv2D(fil[0], padding=pad, kernel_size=(csize, csize), input_shape=input_shape ) )\n",
        "        model.add(BatchNormalization())\n",
        "        model.add(MaxPooling2D(pool_size=(psiz, psiz),strides=(stri,stri),padding=pad))\n",
        "        model.add(Dropout(drop1))\n",
        "    # The remaining  macro-layers\n",
        "\n",
        "    for layer in range(1,nfilmax):\n",
        "        #------------------ nonlin layers -----------------\n",
        "        for nonlin in range(nl[layer]):\n",
        "            model.add(Conv2D(fil[layer], padding=pad, kernel_size=(csize, csize)) )\n",
        "            model.add(Activation('relu'))\n",
        "\n",
        "        #----------------- default macrolayer output\n",
        "\n",
        "        model.add(Conv2D(fil[layer], padding=pad, kernel_size=(csize, csize)) )\n",
        "        model.add(BatchNormalization())\n",
        "        model.add(MaxPooling2D(pool_size=(psiz, psiz),strides=(stri,stri),padding=pad))\n",
        "        model.add(Dropout(drop1))\n",
        "\n",
        "    # Exit classifier\n",
        "    # INPUT TO DENSE LAYER (FLATTEN - more data can overfit / GLOBAL - less data - may be a good choice )\n",
        "    if flat==1:\n",
        "        model.add(Flatten())  # alternanta cu GlobalAv ..\n",
        "    elif flat==0:\n",
        "        model.add(GlobalAveragePooling2D()) # pare sa fie mai Ok la cifar\n",
        "    nhid=np.shape(np.array(hid))[0]\n",
        "    if nhid>0:\n",
        "        for lay in range(nhid):\n",
        "            model.add(Dense(hid[lay], activation='relu'))\n",
        "            #model.add(Dropout(drop1))\n",
        "    model.add(Dense(num_classes, activation='softmax'))\n",
        "\n",
        "# END OF MODEL DESCRIPTION\n",
        "    model.compile(\n",
        "        optimizer=tf.keras.optimizers.Adam(),\n",
        "        loss = 'categorical_crossentropy',\n",
        "        metrics=['accuracy']\n",
        "    )\n",
        "    return model\n",
        "\n"
      ],
      "metadata": {
        "execution": {
          "iopub.status.busy": "2023-06-23T15:13:21.811435Z",
          "iopub.execute_input": "2023-06-23T15:13:21.811793Z",
          "iopub.status.idle": "2023-06-23T15:13:21.835468Z",
          "shell.execute_reply.started": "2023-06-23T15:13:21.811763Z",
          "shell.execute_reply": "2023-06-23T15:13:21.834571Z"
        },
        "trusted": true,
        "id": "k6-R6WOdhZEc"
      },
      "execution_count": 2,
      "outputs": []
    },
    {
      "cell_type": "markdown",
      "source": [
        "# CELL 3  - instantiate V-CNN model with its hyper-parameters  "
      ],
      "metadata": {
        "id": "ga5ncMpLjn5j"
      }
    },
    {
      "cell_type": "code",
      "source": [
        "#with strategy.scope():   #  For TPU support (initialization of strategy needed)\n",
        "model=create_v_cnn_model(input_shape, num_classes, flat=0, fil=[100, 150,200, 200], nl=[2,1,1,0], hid=[100])\n",
        "model.summary()\n",
        "# The above is a maximal (fat) model tuned for cifar100\n",
        "# Parameters have to adjusted (e.g. by division with a factor )\n",
        "# to cope with data and produce lighter models.\n",
        "# For large image datasets TPU usage is recommended and also adding enough macro-layers"
      ],
      "metadata": {
        "execution": {
          "iopub.status.busy": "2023-06-23T15:13:38.385950Z",
          "iopub.execute_input": "2023-06-23T15:13:38.386327Z",
          "iopub.status.idle": "2023-06-23T15:13:38.716434Z",
          "shell.execute_reply.started": "2023-06-23T15:13:38.386297Z",
          "shell.execute_reply": "2023-06-23T15:13:38.715557Z"
        },
        "trusted": true,
        "colab": {
          "base_uri": "https://localhost:8080/"
        },
        "id": "pBal1oh_hZEd",
        "outputId": "623c274c-98f3-49a5-b28e-9b5c867a0251"
      },
      "execution_count": 17,
      "outputs": [
        {
          "output_type": "stream",
          "name": "stdout",
          "text": [
            "Model: \"sequential_3\"\n",
            "_________________________________________________________________\n",
            " Layer (type)                Output Shape              Param #   \n",
            "=================================================================\n",
            " conv2d_16 (Conv2D)          (None, 32, 32, 100)       2800      \n",
            "                                                                 \n",
            " activation_8 (Activation)   (None, 32, 32, 100)       0         \n",
            "                                                                 \n",
            " conv2d_17 (Conv2D)          (None, 32, 32, 100)       90100     \n",
            "                                                                 \n",
            " activation_9 (Activation)   (None, 32, 32, 100)       0         \n",
            "                                                                 \n",
            " conv2d_18 (Conv2D)          (None, 32, 32, 100)       90100     \n",
            "                                                                 \n",
            " batch_normalization_8 (Batc  (None, 32, 32, 100)      400       \n",
            " hNormalization)                                                 \n",
            "                                                                 \n",
            " max_pooling2d_8 (MaxPooling  (None, 16, 16, 100)      0         \n",
            " 2D)                                                             \n",
            "                                                                 \n",
            " dropout_8 (Dropout)         (None, 16, 16, 100)       0         \n",
            "                                                                 \n",
            " conv2d_19 (Conv2D)          (None, 16, 16, 150)       135150    \n",
            "                                                                 \n",
            " activation_10 (Activation)  (None, 16, 16, 150)       0         \n",
            "                                                                 \n",
            " conv2d_20 (Conv2D)          (None, 16, 16, 150)       202650    \n",
            "                                                                 \n",
            " batch_normalization_9 (Batc  (None, 16, 16, 150)      600       \n",
            " hNormalization)                                                 \n",
            "                                                                 \n",
            " max_pooling2d_9 (MaxPooling  (None, 8, 8, 150)        0         \n",
            " 2D)                                                             \n",
            "                                                                 \n",
            " dropout_9 (Dropout)         (None, 8, 8, 150)         0         \n",
            "                                                                 \n",
            " conv2d_21 (Conv2D)          (None, 8, 8, 200)         270200    \n",
            "                                                                 \n",
            " activation_11 (Activation)  (None, 8, 8, 200)         0         \n",
            "                                                                 \n",
            " conv2d_22 (Conv2D)          (None, 8, 8, 200)         360200    \n",
            "                                                                 \n",
            " batch_normalization_10 (Bat  (None, 8, 8, 200)        800       \n",
            " chNormalization)                                                \n",
            "                                                                 \n",
            " max_pooling2d_10 (MaxPoolin  (None, 4, 4, 200)        0         \n",
            " g2D)                                                            \n",
            "                                                                 \n",
            " dropout_10 (Dropout)        (None, 4, 4, 200)         0         \n",
            "                                                                 \n",
            " conv2d_23 (Conv2D)          (None, 4, 4, 200)         360200    \n",
            "                                                                 \n",
            " batch_normalization_11 (Bat  (None, 4, 4, 200)        800       \n",
            " chNormalization)                                                \n",
            "                                                                 \n",
            " max_pooling2d_11 (MaxPoolin  (None, 2, 2, 200)        0         \n",
            " g2D)                                                            \n",
            "                                                                 \n",
            " dropout_11 (Dropout)        (None, 2, 2, 200)         0         \n",
            "                                                                 \n",
            " global_average_pooling2d_3   (None, 200)              0         \n",
            " (GlobalAveragePooling2D)                                        \n",
            "                                                                 \n",
            " dense_3 (Dense)             (None, 100)               20100     \n",
            "                                                                 \n",
            " dense_4 (Dense)             (None, 10)                1010      \n",
            "                                                                 \n",
            "=================================================================\n",
            "Total params: 1,535,110\n",
            "Trainable params: 1,533,810\n",
            "Non-trainable params: 1,300\n",
            "_________________________________________________________________\n"
          ]
        }
      ]
    },
    {
      "cell_type": "markdown",
      "source": [
        "# EfficientNet - can be used alternatively for comparsions (after installing the library)\n"
      ],
      "metadata": {
        "id": "PQCiGmL4hZEe"
      }
    },
    {
      "cell_type": "code",
      "source": [
        "!pip install -U --pre efficientnet"
      ],
      "metadata": {
        "trusted": true,
        "colab": {
          "base_uri": "https://localhost:8080/"
        },
        "id": "YuLNdIG3hZEe",
        "outputId": "bbc0d18b-1721-4ade-d410-1894aa3fd470"
      },
      "execution_count": 3,
      "outputs": [
        {
          "output_type": "stream",
          "name": "stdout",
          "text": [
            "Looking in indexes: https://pypi.org/simple, https://us-python.pkg.dev/colab-wheels/public/simple/\n",
            "Collecting efficientnet\n",
            "  Downloading efficientnet-1.1.1-py3-none-any.whl (18 kB)\n",
            "Collecting keras-applications<=1.0.8,>=1.0.7 (from efficientnet)\n",
            "  Downloading Keras_Applications-1.0.8-py3-none-any.whl (50 kB)\n",
            "\u001b[2K     \u001b[90m━━━━━━━━━━━━━━━━━━━━━━━━━━━━━━━━━━━━━━━━\u001b[0m \u001b[32m50.7/50.7 kB\u001b[0m \u001b[31m4.5 MB/s\u001b[0m eta \u001b[36m0:00:00\u001b[0m\n",
            "\u001b[?25hRequirement already satisfied: scikit-image in /usr/local/lib/python3.10/dist-packages (from efficientnet) (0.19.3)\n",
            "Requirement already satisfied: numpy>=1.9.1 in /usr/local/lib/python3.10/dist-packages (from keras-applications<=1.0.8,>=1.0.7->efficientnet) (1.22.4)\n",
            "Requirement already satisfied: h5py in /usr/local/lib/python3.10/dist-packages (from keras-applications<=1.0.8,>=1.0.7->efficientnet) (3.8.0)\n",
            "Requirement already satisfied: scipy>=1.4.1 in /usr/local/lib/python3.10/dist-packages (from scikit-image->efficientnet) (1.10.1)\n",
            "Requirement already satisfied: networkx>=2.2 in /usr/local/lib/python3.10/dist-packages (from scikit-image->efficientnet) (3.1)\n",
            "Requirement already satisfied: pillow!=7.1.0,!=7.1.1,!=8.3.0,>=6.1.0 in /usr/local/lib/python3.10/dist-packages (from scikit-image->efficientnet) (8.4.0)\n",
            "Requirement already satisfied: imageio>=2.4.1 in /usr/local/lib/python3.10/dist-packages (from scikit-image->efficientnet) (2.25.1)\n",
            "Requirement already satisfied: tifffile>=2019.7.26 in /usr/local/lib/python3.10/dist-packages (from scikit-image->efficientnet) (2023.4.12)\n",
            "Requirement already satisfied: PyWavelets>=1.1.1 in /usr/local/lib/python3.10/dist-packages (from scikit-image->efficientnet) (1.4.1)\n",
            "Requirement already satisfied: packaging>=20.0 in /usr/local/lib/python3.10/dist-packages (from scikit-image->efficientnet) (23.1)\n",
            "Installing collected packages: keras-applications, efficientnet\n",
            "Successfully installed efficientnet-1.1.1 keras-applications-1.0.8\n"
          ]
        }
      ]
    },
    {
      "cell_type": "code",
      "source": [
        "import efficientnet.tfkeras as efn\n",
        "def get_efficientNet_model():\n",
        "    enet = efn.EfficientNetB0(\n",
        "        input_shape=input_shape,\n",
        "        weights='noisy-student',\n",
        "        include_top=False\n",
        "    )\n",
        "\n",
        "    model = tf.keras.Sequential([\n",
        "        enet,\n",
        "        tf.keras.layers.GlobalAveragePooling2D(),\n",
        "        tf.keras.layers.Dense(num_classes, activation='softmax')\n",
        "    ])\n",
        "\n",
        "    return model"
      ],
      "metadata": {
        "trusted": true,
        "id": "-Sc7X3ZxhZEf"
      },
      "execution_count": 4,
      "outputs": []
    },
    {
      "cell_type": "code",
      "source": [
        "#with strategy.scope():  # if TPU\n",
        "    # Get the model\n",
        "model = get_efficientNet_model()\n",
        "\n",
        "    # Compile the Model\n",
        "model.compile(\n",
        "        optimizer='adam',\n",
        "        loss = 'categorical_crossentropy',\n",
        "        metrics=['accuracy'],\n",
        "        #steps_per_execution=16\n",
        "    )\n",
        "model.summary()"
      ],
      "metadata": {
        "trusted": true,
        "colab": {
          "base_uri": "https://localhost:8080/"
        },
        "id": "ycUn_FzihZEf",
        "outputId": "6270a330-e1bd-4314-ca95-1224a8e37628"
      },
      "execution_count": 5,
      "outputs": [
        {
          "output_type": "stream",
          "name": "stdout",
          "text": [
            "Downloading data from https://github.com/qubvel/efficientnet/releases/download/v0.0.1/efficientnet-b0_noisy-student_notop.h5\n",
            "16696600/16696600 [==============================] - 1s 0us/step\n",
            "Model: \"sequential\"\n",
            "_________________________________________________________________\n",
            " Layer (type)                Output Shape              Param #   \n",
            "=================================================================\n",
            " efficientnet-b0 (Functional  (None, 1, 1, 1280)       4049564   \n",
            " )                                                               \n",
            "                                                                 \n",
            " global_average_pooling2d (G  (None, 1280)             0         \n",
            " lobalAveragePooling2D)                                          \n",
            "                                                                 \n",
            " dense (Dense)               (None, 10)                12810     \n",
            "                                                                 \n",
            "=================================================================\n",
            "Total params: 4,062,374\n",
            "Trainable params: 4,020,358\n",
            "Non-trainable params: 42,016\n",
            "_________________________________________________________________\n"
          ]
        }
      ]
    },
    {
      "cell_type": "markdown",
      "source": [
        "# Augmenting data\n",
        "\n"
      ],
      "metadata": {
        "id": "BPzFBp76OHdy"
      }
    },
    {
      "cell_type": "code",
      "source": [
        "augment=0   # 0 - non-augmented (fast training) 1,2,3 .. various schemes ..\n",
        "# ----------------------\n",
        "from tensorflow.keras.preprocessing.image import ImageDataGenerator\n",
        "if augment==1:\n",
        "  data_generator = ImageDataGenerator(\n",
        "                        ### --- useful for FER2013 ---\n",
        "\n",
        "                          featurewise_center=False,\n",
        "                          featurewise_std_normalization=False,\n",
        "                          rotation_range=10,\n",
        "                          width_shift_range=0.1,\n",
        "                          height_shift_range=0.1,\n",
        "                          zoom_range=.1,\n",
        "                          horizontal_flip=True\n",
        "                          )\n",
        "\n",
        "                        #------- useful for CIFAR10 according to https://github.com/moritzhambach/Image-Augmentation-in-Keras-CIFAR-10-\n",
        "elif augment==2:\n",
        "  data_generator = ImageDataGenerator(\n",
        "                          rotation_range=15,\n",
        "                          horizontal_flip=True,\n",
        "                          width_shift_range=0.1,\n",
        "                          height_shift_range=0.1\n",
        "                        #------------------------------\n",
        "                         )\n",
        "elif augment==3:      # Proposed in https://github.com/khanhnamle1994/fashion-mnist/blob/master/CNN-4Conv.ipynb\n",
        "  data_generator = ImageDataGenerator(rotation_range=8, width_shift_range=0.08, shear_range=0.3,\n",
        "                               height_shift_range=0.08, zoom_range=0.08)\n",
        "\n",
        "\n"
      ],
      "metadata": {
        "id": "GAeThYodvLkY",
        "execution": {
          "iopub.status.busy": "2023-06-23T15:14:11.967877Z",
          "iopub.execute_input": "2023-06-23T15:14:11.968252Z",
          "iopub.status.idle": "2023-06-23T15:14:11.977019Z",
          "shell.execute_reply.started": "2023-06-23T15:14:11.968223Z",
          "shell.execute_reply": "2023-06-23T15:14:11.976040Z"
        },
        "trusted": true
      },
      "execution_count": 6,
      "outputs": []
    },
    {
      "cell_type": "markdown",
      "source": [
        "# Checkpoint for best validation accuracy"
      ],
      "metadata": {
        "id": "zqEskmYzok3K"
      }
    },
    {
      "cell_type": "code",
      "source": [
        "from keras.callbacks import ModelCheckpoint\n",
        "from keras.models import load_model\n",
        "import time as ti\n",
        "checkpoint = ModelCheckpoint('best_model.h5', monitor= 'val_accuracy', mode= 'max', save_best_only = True, verbose=1)"
      ],
      "metadata": {
        "execution": {
          "iopub.status.busy": "2023-06-23T15:49:46.180350Z",
          "iopub.execute_input": "2023-06-23T15:49:46.180729Z",
          "iopub.status.idle": "2023-06-23T15:49:46.186287Z",
          "shell.execute_reply.started": "2023-06-23T15:49:46.180697Z",
          "shell.execute_reply": "2023-06-23T15:49:46.185185Z"
        },
        "trusted": true,
        "id": "D0TaappDhZEf"
      },
      "execution_count": 7,
      "outputs": []
    },
    {
      "cell_type": "markdown",
      "source": [
        "# Training and validation"
      ],
      "metadata": {
        "id": "ImbNMClXriUG"
      }
    },
    {
      "cell_type": "code",
      "source": [
        "epoci=50\n",
        "batch_size=100\n",
        "\n",
        "t1=ti.time()\n",
        "if augment==0:\n",
        "  history = model.fit(x_train, y_train, epochs=epoci, validation_data=(x_test, y_test), batch_size=batch_size, verbose=2,\n",
        "                    callbacks = checkpoint)\n",
        "elif augment>0:\n",
        "  history = model.fit(data_generator.flow(x_train, y_train,\n",
        "              batch_size=batch_size), epochs=epoci, validation_data=(x_test, y_test), verbose=2,\n",
        "                    callbacks = checkpoint)\n",
        "t2=ti.time()\n",
        "print('====================================================')\n",
        "print('Training with  ',epoci,' epochs, lasted  ',int(t2-t1)/60,' minutes')\n",
        "t1=ti.time()\n",
        "model=load_model('best_model.h5')\n",
        "bp=model.get_weights()  # best weights set\n",
        "score = model.evaluate(x_test, y_test, verbose=0)\n",
        "t2=ti.time()\n",
        "print ('Total number of parameters: ',model.count_params())\n",
        "print('Best validation accuracy :', 100*score[1],'%')\n",
        "#print ('Timp predictie pe tot setul de test: ',t2-t1)\n",
        "print('Latency - GPU (per sample):', 1000*(t2-t1)/np.shape(x_test)[0], 'ms')"
      ],
      "metadata": {
        "colab": {
          "base_uri": "https://localhost:8080/"
        },
        "id": "O7Yy4vyvhd2o",
        "outputId": "1b9f7d4e-eab0-4e4f-b85e-c10dec8b434c",
        "trusted": true
      },
      "execution_count": 8,
      "outputs": [
        {
          "output_type": "stream",
          "name": "stdout",
          "text": [
            "Epoch 1/50\n",
            "\n",
            "Epoch 1: val_accuracy improved from -inf to 0.76830, saving model to best_model.h5\n",
            "500/500 - 79s - loss: 1.0188 - accuracy: 0.6512 - val_loss: 0.6837 - val_accuracy: 0.7683 - 79s/epoch - 159ms/step\n",
            "Epoch 2/50\n",
            "\n",
            "Epoch 2: val_accuracy improved from 0.76830 to 0.78740, saving model to best_model.h5\n",
            "500/500 - 20s - loss: 0.5807 - accuracy: 0.8004 - val_loss: 0.6274 - val_accuracy: 0.7874 - 20s/epoch - 40ms/step\n",
            "Epoch 3/50\n",
            "\n",
            "Epoch 3: val_accuracy improved from 0.78740 to 0.80650, saving model to best_model.h5\n",
            "500/500 - 19s - loss: 0.4455 - accuracy: 0.8455 - val_loss: 0.5769 - val_accuracy: 0.8065 - 19s/epoch - 39ms/step\n",
            "Epoch 4/50\n",
            "\n",
            "Epoch 4: val_accuracy improved from 0.80650 to 0.81240, saving model to best_model.h5\n",
            "500/500 - 20s - loss: 0.3640 - accuracy: 0.8735 - val_loss: 0.6023 - val_accuracy: 0.8124 - 20s/epoch - 39ms/step\n",
            "Epoch 5/50\n",
            "\n",
            "Epoch 5: val_accuracy improved from 0.81240 to 0.82590, saving model to best_model.h5\n",
            "500/500 - 19s - loss: 0.3017 - accuracy: 0.8932 - val_loss: 0.5493 - val_accuracy: 0.8259 - 19s/epoch - 39ms/step\n",
            "Epoch 6/50\n",
            "\n",
            "Epoch 6: val_accuracy did not improve from 0.82590\n",
            "500/500 - 19s - loss: 0.2534 - accuracy: 0.9109 - val_loss: 0.5844 - val_accuracy: 0.8247 - 19s/epoch - 39ms/step\n",
            "Epoch 7/50\n",
            "\n",
            "Epoch 7: val_accuracy did not improve from 0.82590\n",
            "500/500 - 19s - loss: 0.2238 - accuracy: 0.9222 - val_loss: 0.5952 - val_accuracy: 0.8215 - 19s/epoch - 38ms/step\n",
            "Epoch 8/50\n",
            "\n",
            "Epoch 8: val_accuracy improved from 0.82590 to 0.82690, saving model to best_model.h5\n",
            "500/500 - 19s - loss: 0.1987 - accuracy: 0.9306 - val_loss: 0.6134 - val_accuracy: 0.8269 - 19s/epoch - 39ms/step\n",
            "Epoch 9/50\n",
            "\n",
            "Epoch 9: val_accuracy improved from 0.82690 to 0.83080, saving model to best_model.h5\n",
            "500/500 - 20s - loss: 0.1697 - accuracy: 0.9402 - val_loss: 0.6400 - val_accuracy: 0.8308 - 20s/epoch - 40ms/step\n",
            "Epoch 10/50\n",
            "\n",
            "Epoch 10: val_accuracy did not improve from 0.83080\n",
            "500/500 - 19s - loss: 0.1459 - accuracy: 0.9500 - val_loss: 0.7091 - val_accuracy: 0.8144 - 19s/epoch - 38ms/step\n",
            "Epoch 11/50\n",
            "\n",
            "Epoch 11: val_accuracy did not improve from 0.83080\n",
            "500/500 - 19s - loss: 0.1372 - accuracy: 0.9537 - val_loss: 0.6741 - val_accuracy: 0.8177 - 19s/epoch - 38ms/step\n",
            "Epoch 12/50\n",
            "\n",
            "Epoch 12: val_accuracy improved from 0.83080 to 0.83550, saving model to best_model.h5\n",
            "500/500 - 20s - loss: 0.1209 - accuracy: 0.9587 - val_loss: 0.6665 - val_accuracy: 0.8355 - 20s/epoch - 40ms/step\n",
            "Epoch 13/50\n",
            "\n",
            "Epoch 13: val_accuracy did not improve from 0.83550\n",
            "500/500 - 19s - loss: 0.1116 - accuracy: 0.9611 - val_loss: 0.7138 - val_accuracy: 0.8274 - 19s/epoch - 37ms/step\n",
            "Epoch 14/50\n",
            "\n",
            "Epoch 14: val_accuracy did not improve from 0.83550\n",
            "500/500 - 19s - loss: 0.1083 - accuracy: 0.9631 - val_loss: 0.6774 - val_accuracy: 0.8303 - 19s/epoch - 38ms/step\n",
            "Epoch 15/50\n",
            "\n",
            "Epoch 15: val_accuracy improved from 0.83550 to 0.83620, saving model to best_model.h5\n",
            "500/500 - 19s - loss: 0.0969 - accuracy: 0.9668 - val_loss: 0.7115 - val_accuracy: 0.8362 - 19s/epoch - 38ms/step\n",
            "Epoch 16/50\n",
            "\n",
            "Epoch 16: val_accuracy did not improve from 0.83620\n",
            "500/500 - 19s - loss: 0.1019 - accuracy: 0.9646 - val_loss: 0.6805 - val_accuracy: 0.8300 - 19s/epoch - 38ms/step\n",
            "Epoch 17/50\n",
            "\n",
            "Epoch 17: val_accuracy did not improve from 0.83620\n",
            "500/500 - 18s - loss: 0.0856 - accuracy: 0.9703 - val_loss: 0.7075 - val_accuracy: 0.8335 - 18s/epoch - 36ms/step\n",
            "Epoch 18/50\n",
            "\n",
            "Epoch 18: val_accuracy did not improve from 0.83620\n",
            "500/500 - 19s - loss: 0.0888 - accuracy: 0.9702 - val_loss: 0.7457 - val_accuracy: 0.8307 - 19s/epoch - 38ms/step\n",
            "Epoch 19/50\n",
            "\n",
            "Epoch 19: val_accuracy did not improve from 0.83620\n",
            "500/500 - 18s - loss: 0.0884 - accuracy: 0.9698 - val_loss: 0.7786 - val_accuracy: 0.8225 - 18s/epoch - 37ms/step\n",
            "Epoch 20/50\n",
            "\n",
            "Epoch 20: val_accuracy improved from 0.83620 to 0.83730, saving model to best_model.h5\n",
            "500/500 - 20s - loss: 0.0776 - accuracy: 0.9743 - val_loss: 0.7598 - val_accuracy: 0.8373 - 20s/epoch - 39ms/step\n",
            "Epoch 21/50\n",
            "\n",
            "Epoch 21: val_accuracy did not improve from 0.83730\n",
            "500/500 - 18s - loss: 0.0766 - accuracy: 0.9739 - val_loss: 0.6910 - val_accuracy: 0.8372 - 18s/epoch - 37ms/step\n",
            "Epoch 22/50\n",
            "\n",
            "Epoch 22: val_accuracy improved from 0.83730 to 0.84270, saving model to best_model.h5\n",
            "500/500 - 19s - loss: 0.0712 - accuracy: 0.9759 - val_loss: 0.7265 - val_accuracy: 0.8427 - 19s/epoch - 38ms/step\n",
            "Epoch 23/50\n",
            "\n",
            "Epoch 23: val_accuracy did not improve from 0.84270\n",
            "500/500 - 19s - loss: 0.0880 - accuracy: 0.9710 - val_loss: 0.7157 - val_accuracy: 0.8393 - 19s/epoch - 38ms/step\n",
            "Epoch 24/50\n",
            "\n",
            "Epoch 24: val_accuracy did not improve from 0.84270\n",
            "500/500 - 18s - loss: 0.0688 - accuracy: 0.9772 - val_loss: 0.7292 - val_accuracy: 0.8386 - 18s/epoch - 37ms/step\n",
            "Epoch 25/50\n",
            "\n",
            "Epoch 25: val_accuracy did not improve from 0.84270\n",
            "500/500 - 19s - loss: 0.0674 - accuracy: 0.9758 - val_loss: 0.7071 - val_accuracy: 0.8390 - 19s/epoch - 38ms/step\n",
            "Epoch 26/50\n",
            "\n",
            "Epoch 26: val_accuracy did not improve from 0.84270\n",
            "500/500 - 18s - loss: 0.0595 - accuracy: 0.9799 - val_loss: 0.7609 - val_accuracy: 0.8414 - 18s/epoch - 37ms/step\n",
            "Epoch 27/50\n",
            "\n",
            "Epoch 27: val_accuracy did not improve from 0.84270\n",
            "500/500 - 19s - loss: 0.0572 - accuracy: 0.9808 - val_loss: 0.8013 - val_accuracy: 0.8326 - 19s/epoch - 37ms/step\n",
            "Epoch 28/50\n",
            "\n",
            "Epoch 28: val_accuracy did not improve from 0.84270\n",
            "500/500 - 18s - loss: 0.0654 - accuracy: 0.9774 - val_loss: 0.7209 - val_accuracy: 0.8414 - 18s/epoch - 37ms/step\n",
            "Epoch 29/50\n",
            "\n",
            "Epoch 29: val_accuracy did not improve from 0.84270\n",
            "500/500 - 19s - loss: 0.0569 - accuracy: 0.9807 - val_loss: 0.7736 - val_accuracy: 0.8352 - 19s/epoch - 38ms/step\n",
            "Epoch 30/50\n",
            "\n",
            "Epoch 30: val_accuracy did not improve from 0.84270\n",
            "500/500 - 18s - loss: 0.0588 - accuracy: 0.9805 - val_loss: 0.7507 - val_accuracy: 0.8401 - 18s/epoch - 37ms/step\n",
            "Epoch 31/50\n",
            "\n",
            "Epoch 31: val_accuracy did not improve from 0.84270\n",
            "500/500 - 19s - loss: 0.0545 - accuracy: 0.9817 - val_loss: 0.7617 - val_accuracy: 0.8401 - 19s/epoch - 38ms/step\n",
            "Epoch 32/50\n",
            "\n",
            "Epoch 32: val_accuracy did not improve from 0.84270\n",
            "500/500 - 19s - loss: 0.0729 - accuracy: 0.9763 - val_loss: 0.8036 - val_accuracy: 0.8279 - 19s/epoch - 37ms/step\n",
            "Epoch 33/50\n",
            "\n",
            "Epoch 33: val_accuracy did not improve from 0.84270\n",
            "500/500 - 18s - loss: 0.0572 - accuracy: 0.9812 - val_loss: 0.7613 - val_accuracy: 0.8405 - 18s/epoch - 37ms/step\n",
            "Epoch 34/50\n",
            "\n",
            "Epoch 34: val_accuracy did not improve from 0.84270\n",
            "500/500 - 19s - loss: 0.0463 - accuracy: 0.9849 - val_loss: 0.7942 - val_accuracy: 0.8344 - 19s/epoch - 38ms/step\n",
            "Epoch 35/50\n",
            "\n",
            "Epoch 35: val_accuracy did not improve from 0.84270\n",
            "500/500 - 18s - loss: 0.0482 - accuracy: 0.9842 - val_loss: 0.8279 - val_accuracy: 0.8335 - 18s/epoch - 36ms/step\n",
            "Epoch 36/50\n",
            "\n",
            "Epoch 36: val_accuracy did not improve from 0.84270\n",
            "500/500 - 19s - loss: 0.0520 - accuracy: 0.9828 - val_loss: 0.8439 - val_accuracy: 0.8305 - 19s/epoch - 38ms/step\n",
            "Epoch 37/50\n",
            "\n",
            "Epoch 37: val_accuracy improved from 0.84270 to 0.84380, saving model to best_model.h5\n",
            "500/500 - 19s - loss: 0.0453 - accuracy: 0.9850 - val_loss: 0.7195 - val_accuracy: 0.8438 - 19s/epoch - 38ms/step\n",
            "Epoch 38/50\n",
            "\n",
            "Epoch 38: val_accuracy did not improve from 0.84380\n",
            "500/500 - 19s - loss: 0.0482 - accuracy: 0.9841 - val_loss: 0.7923 - val_accuracy: 0.8426 - 19s/epoch - 39ms/step\n",
            "Epoch 39/50\n",
            "\n",
            "Epoch 39: val_accuracy did not improve from 0.84380\n",
            "500/500 - 18s - loss: 0.0498 - accuracy: 0.9839 - val_loss: 0.7954 - val_accuracy: 0.8398 - 18s/epoch - 36ms/step\n",
            "Epoch 40/50\n",
            "\n",
            "Epoch 40: val_accuracy did not improve from 0.84380\n",
            "500/500 - 18s - loss: 0.0805 - accuracy: 0.9746 - val_loss: 0.7078 - val_accuracy: 0.8416 - 18s/epoch - 36ms/step\n",
            "Epoch 41/50\n",
            "\n",
            "Epoch 41: val_accuracy did not improve from 0.84380\n",
            "500/500 - 18s - loss: 0.0451 - accuracy: 0.9852 - val_loss: 0.8910 - val_accuracy: 0.8278 - 18s/epoch - 35ms/step\n",
            "Epoch 42/50\n",
            "\n",
            "Epoch 42: val_accuracy improved from 0.84380 to 0.84470, saving model to best_model.h5\n",
            "500/500 - 19s - loss: 0.0410 - accuracy: 0.9868 - val_loss: 0.7802 - val_accuracy: 0.8447 - 19s/epoch - 38ms/step\n",
            "Epoch 43/50\n",
            "\n",
            "Epoch 43: val_accuracy did not improve from 0.84470\n",
            "500/500 - 17s - loss: 0.0369 - accuracy: 0.9880 - val_loss: 0.8363 - val_accuracy: 0.8397 - 17s/epoch - 35ms/step\n",
            "Epoch 44/50\n",
            "\n",
            "Epoch 44: val_accuracy improved from 0.84470 to 0.84540, saving model to best_model.h5\n",
            "500/500 - 19s - loss: 0.0463 - accuracy: 0.9849 - val_loss: 0.7826 - val_accuracy: 0.8454 - 19s/epoch - 38ms/step\n",
            "Epoch 45/50\n",
            "\n",
            "Epoch 45: val_accuracy did not improve from 0.84540\n",
            "500/500 - 17s - loss: 0.0370 - accuracy: 0.9878 - val_loss: 0.8154 - val_accuracy: 0.8391 - 17s/epoch - 35ms/step\n",
            "Epoch 46/50\n",
            "\n",
            "Epoch 46: val_accuracy did not improve from 0.84540\n",
            "500/500 - 18s - loss: 0.0422 - accuracy: 0.9862 - val_loss: 0.8273 - val_accuracy: 0.8337 - 18s/epoch - 35ms/step\n",
            "Epoch 47/50\n",
            "\n",
            "Epoch 47: val_accuracy improved from 0.84540 to 0.84750, saving model to best_model.h5\n",
            "500/500 - 18s - loss: 0.0471 - accuracy: 0.9844 - val_loss: 0.7725 - val_accuracy: 0.8475 - 18s/epoch - 37ms/step\n",
            "Epoch 48/50\n",
            "\n",
            "Epoch 48: val_accuracy did not improve from 0.84750\n",
            "500/500 - 18s - loss: 0.0392 - accuracy: 0.9876 - val_loss: 0.7690 - val_accuracy: 0.8467 - 18s/epoch - 36ms/step\n",
            "Epoch 49/50\n",
            "\n",
            "Epoch 49: val_accuracy did not improve from 0.84750\n",
            "500/500 - 17s - loss: 0.0346 - accuracy: 0.9884 - val_loss: 0.7921 - val_accuracy: 0.8436 - 17s/epoch - 35ms/step\n",
            "Epoch 50/50\n",
            "\n",
            "Epoch 50: val_accuracy did not improve from 0.84750\n",
            "500/500 - 17s - loss: 0.0350 - accuracy: 0.9882 - val_loss: 0.8485 - val_accuracy: 0.8312 - 17s/epoch - 35ms/step\n",
            "====================================================\n",
            "Training with   50  epochs, lasted   16.666666666666668  minutes\n",
            "Total number of parameters:  4062374\n",
            "Best validation accuracy : 84.75000262260437 %\n",
            "Latency - GPU (per sample): 0.9881463766098022 ms\n"
          ]
        }
      ]
    },
    {
      "cell_type": "markdown",
      "source": [
        "# Plots of training/validation process"
      ],
      "metadata": {
        "id": "Rc1AbXXwmQPj"
      }
    },
    {
      "cell_type": "code",
      "source": [
        "from matplotlib import pyplot as plt\n",
        "def display_training_curves(training, validation, title, subplot):\n",
        "    if subplot%10==1: # set up the subplots on the first call\n",
        "        plt.subplots(figsize=(7,3), facecolor='#F0F0F0')\n",
        "        plt.tight_layout()\n",
        "    ax = plt.subplot(subplot)\n",
        "    ax.set_facecolor('#F8F8F8')\n",
        "    ax.plot(training)\n",
        "    ax.plot(validation)\n",
        "    ax.set_title('model '+ title)\n",
        "    ax.set_ylabel(title)\n",
        "    #ax.set_ylim(0.28,1.05)\n",
        "    ax.set_xlabel('epoch')\n",
        "    ax.legend(['train', 'valid.'])\n",
        "display_training_curves(history.history['loss'], history.history['val_loss'], 'loss', 121)\n",
        "display_training_curves(history.history['accuracy'], history.history['val_accuracy'], 'accuracy', 122)"
      ],
      "metadata": {
        "colab": {
          "base_uri": "https://localhost:8080/",
          "height": 376
        },
        "id": "45_UlH9tHH1E",
        "outputId": "a807a6c6-9be8-4b02-bfb1-383a1e9000f8",
        "trusted": true
      },
      "execution_count": 9,
      "outputs": [
        {
          "output_type": "stream",
          "name": "stderr",
          "text": [
            "<ipython-input-9-951775051a26>:6: MatplotlibDeprecationWarning: Auto-removal of overlapping axes is deprecated since 3.6 and will be removed two minor releases later; explicitly call ax.remove() as needed.\n",
            "  ax = plt.subplot(subplot)\n"
          ]
        },
        {
          "output_type": "display_data",
          "data": {
            "text/plain": [
              "<Figure size 700x300 with 2 Axes>"
            ],
            "image/png": "[encoded data removed]"
          },
          "metadata": {}
        }
      ]
    },
    {
      "cell_type": "code",
      "source": [
        "# Saving model\n",
        "#-----------------------------------------------------------\n",
        "model.save('cif10-90_78.h5')  # use your favourite name"
      ],
      "metadata": {
        "id": "7n4z2_eh_9QV",
        "trusted": true
      },
      "execution_count": null,
      "outputs": []
    },
    {
      "cell_type": "code",
      "source": [
        "# Evaluate a savde model\n",
        "from keras.models import load_model\n",
        "import time as ti\n",
        "\n",
        "mod=load_model('specify-it')  # fisierul trebuie \"upload\" in sectiunea fisiere\n",
        "mod.summary()\n",
        "t1=ti.time()\n",
        "score = mod.evaluate(x_test, y_test, verbose=0)\n",
        "t2=ti.time()\n",
        "print('Latency (per input sample):', 1000*(t2-t1)/np.shape(x_test)[0], 'ms')\n",
        "print('Validation accuracy: ',100*score[1],'%')"
      ],
      "metadata": {
        "id": "Dpahjo4aCLTo",
        "trusted": true
      },
      "execution_count": null,
      "outputs": []
    },
    {
      "cell_type": "code",
      "source": [
        "# Examples\n",
        "\n",
        "selectia=int(np.shape(x_test)[0]*np.random.rand(1))  #\n",
        "\n",
        "img1=x_test[selectia,:,:,:]\n",
        "import matplotlib.pyplot as plt\n",
        "import matplotlib.image as mpimg\n",
        "if np.shape(x_train)[3]==1:\n",
        "  plt.imshow(img1[:,:,0],cmap='gray')\n",
        "elif np.shape(x_train)[3]==3:\n",
        "  plt.imshow(img1)\n",
        "\n",
        "label=np.dot(y_test[selectia,:],1+np.array(range(num_classes)).T)\n",
        "print('Labeled class :', label-1)\n",
        "z=model.predict(x_test[selectia:selectia+1,:,:,:])\n",
        "print('Recognized class  : ',np.argmax(z))\n",
        "\n"
      ],
      "metadata": {
        "colab": {
          "base_uri": "https://localhost:8080/",
          "height": 482
        },
        "id": "dd_6qiBEeaQj",
        "outputId": "659d4c90-2710-4d94-9066-bda3642840d3",
        "trusted": true
      },
      "execution_count": 17,
      "outputs": [
        {
          "output_type": "stream",
          "name": "stdout",
          "text": [
            "Labeled class : 9.0\n",
            "1/1 [==============================] - 0s 24ms/step\n",
            "Recognized class  :  9\n"
          ]
        },
        {
          "output_type": "display_data",
          "data": {
            "text/plain": [
              "<Figure size 640x480 with 1 Axes>"
            ],
            "image/png": "[encoded data removed]"
          },
          "metadata": {}
        }
      ]
    },
    {
      "cell_type": "code",
      "source": [
        "# Confusion matrix and more specific performance indicators\n",
        "#----------------------------------------------------------------\n",
        "\n",
        "labels=(np.dot(y_test,np.array(range(num_classes)).T)).astype('int16')\n",
        "pred= model.predict(x_test)\n",
        "predicted_class_indices=np.argmax(pred,axis=1)\n",
        "from sklearn.metrics import classification_report, confusion_matrix\n",
        "C=confusion_matrix(predicted_class_indices,labels)\n",
        "print (C)\n",
        "print('Classification Report')\n",
        "print(classification_report(labels,predicted_class_indices ))\n"
      ],
      "metadata": {
        "colab": {
          "base_uri": "https://localhost:8080/"
        },
        "id": "xAjHg2IHetNK",
        "outputId": "c8d1e507-bc27-4e71-eca8-81f4d26a5923",
        "trusted": true
      },
      "execution_count": 10,
      "outputs": [
        {
          "output_type": "stream",
          "name": "stdout",
          "text": [
            "313/313 [==============================] - 4s 8ms/step\n",
            "[[884  15  42  13   8   7   4   7  35  16]\n",
            " [  9 894   1   6   2   1   2   1  13  42]\n",
            " [ 12   1 768  37  37  29  13   6   7   1]\n",
            " [ 10   6  37 712  27 136  24  35  11   7]\n",
            " [ 10   2  52  53 857  29  17  35   4   4]\n",
            " [  3   1  13  90  13 740  10  17   3   2]\n",
            " [  3   4  58  52  25  23 925   4   5   1]\n",
            " [  9   3  19  21  24  33   3 887   2   7]\n",
            " [ 33  19   6   3   2   1   0   4 898  10]\n",
            " [ 27  55   4  13   5   1   2   4  22 910]]\n",
            "Classification Report\n",
            "              precision    recall  f1-score   support\n",
            "\n",
            "           0       0.86      0.88      0.87      1000\n",
            "           1       0.92      0.89      0.91      1000\n",
            "           2       0.84      0.77      0.80      1000\n",
            "           3       0.71      0.71      0.71      1000\n",
            "           4       0.81      0.86      0.83      1000\n",
            "           5       0.83      0.74      0.78      1000\n",
            "           6       0.84      0.93      0.88      1000\n",
            "           7       0.88      0.89      0.88      1000\n",
            "           8       0.92      0.90      0.91      1000\n",
            "           9       0.87      0.91      0.89      1000\n",
            "\n",
            "    accuracy                           0.85     10000\n",
            "   macro avg       0.85      0.85      0.85     10000\n",
            "weighted avg       0.85      0.85      0.85     10000\n",
            "\n"
          ]
        }
      ]
    }
  ]
}